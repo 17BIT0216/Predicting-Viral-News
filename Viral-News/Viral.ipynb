{
 "cells": [
  {
   "cell_type": "code",
   "execution_count": 1,
   "metadata": {},
   "outputs": [],
   "source": [
    "import numpy as np\n",
    "import pandas as pd\n",
    "import seaborn as sns\n",
    "import matplotlib.pyplot as plt\n",
    "%matplotlib inline"
   ]
  },
  {
   "cell_type": "code",
   "execution_count": 2,
   "metadata": {},
   "outputs": [],
   "source": [
    "from sklearn.naive_bayes import GaussianNB\n",
    "from mlxtend.plotting import plot_confusion_matrix"
   ]
  },
  {
   "cell_type": "code",
   "execution_count": 3,
   "metadata": {},
   "outputs": [],
   "source": [
    "\n",
    "from sklearn.svm import SVC\n",
    "from sklearn.linear_model import LogisticRegression"
   ]
  },
  {
   "cell_type": "code",
   "execution_count": 4,
   "metadata": {},
   "outputs": [],
   "source": [
    "from sklearn.metrics import confusion_matrix\n",
    "from sklearn.metrics import classification_report\n",
    "from sklearn.utils import shuffle\n",
    "import warnings\n",
    "warnings.filterwarnings('ignore')"
   ]
  },
  {
   "cell_type": "code",
   "execution_count": 5,
   "metadata": {},
   "outputs": [],
   "source": [
    "real_news=pd.read_csv('News.csv') #has real news "
   ]
  },
  {
   "cell_type": "code",
   "execution_count": 6,
   "metadata": {},
   "outputs": [],
   "source": [
    "viral_news=pd.read_csv('Viral_news.csv') #viral news "
   ]
  },
  {
   "cell_type": "code",
   "execution_count": 7,
   "metadata": {},
   "outputs": [
    {
     "data": {
      "text/plain": [
       "(4000, 5)"
      ]
     },
     "execution_count": 7,
     "metadata": {},
     "output_type": "execute_result"
    }
   ],
   "source": [
    "real_news.shape"
   ]
  },
  {
   "cell_type": "code",
   "execution_count": 8,
   "metadata": {},
   "outputs": [
    {
     "data": {
      "text/plain": [
       "(2000, 5)"
      ]
     },
     "execution_count": 8,
     "metadata": {},
     "output_type": "execute_result"
    }
   ],
   "source": [
    "viral_news.shape"
   ]
  },
  {
   "cell_type": "code",
   "execution_count": 9,
   "metadata": {},
   "outputs": [],
   "source": [
    "real_news['label']='REAL'"
   ]
  },
  {
   "cell_type": "code",
   "execution_count": 10,
   "metadata": {},
   "outputs": [],
   "source": [
    "viral_news['label']='VIRAL'  #my computer was able to hanlde all the data so i took a small section of the data"
   ]
  },
  {
   "cell_type": "code",
   "execution_count": 11,
   "metadata": {},
   "outputs": [],
   "source": [
    "DF=pd.concat([real_news.head(4000),viral_news.head(2000)]) #now basically all the values has two label either they are "
   ]
  },
  {
   "cell_type": "code",
   "execution_count": 12,
   "metadata": {},
   "outputs": [
    {
     "data": {
      "text/html": [
       "<div>\n",
       "<style scoped>\n",
       "    .dataframe tbody tr th:only-of-type {\n",
       "        vertical-align: middle;\n",
       "    }\n",
       "\n",
       "    .dataframe tbody tr th {\n",
       "        vertical-align: top;\n",
       "    }\n",
       "\n",
       "    .dataframe thead th {\n",
       "        text-align: right;\n",
       "    }\n",
       "</style>\n",
       "<table border=\"1\" class=\"dataframe\">\n",
       "  <thead>\n",
       "    <tr style=\"text-align: right;\">\n",
       "      <th></th>\n",
       "      <th>Unnamed: 0</th>\n",
       "      <th>title</th>\n",
       "      <th>text</th>\n",
       "      <th>subject</th>\n",
       "      <th>date</th>\n",
       "      <th>label</th>\n",
       "    </tr>\n",
       "  </thead>\n",
       "  <tbody>\n",
       "    <tr>\n",
       "      <th>2567</th>\n",
       "      <td>2567</td>\n",
       "      <td>Trump praises work on British trade deal, says...</td>\n",
       "      <td>WASHINGTON (Reuters) - U.S. President Donald T...</td>\n",
       "      <td>politicsNews</td>\n",
       "      <td>July 25, 2017</td>\n",
       "      <td>REAL</td>\n",
       "    </tr>\n",
       "    <tr>\n",
       "      <th>1671</th>\n",
       "      <td>1671</td>\n",
       "      <td>WATCH: Joe Scarborough Gets MOCKED For Compar...</td>\n",
       "      <td>Joe Scarborough is not having the best morning...</td>\n",
       "      <td>News</td>\n",
       "      <td>April 26, 2017</td>\n",
       "      <td>VIRAL</td>\n",
       "    </tr>\n",
       "    <tr>\n",
       "      <th>1162</th>\n",
       "      <td>1162</td>\n",
       "      <td>U.S. bill to regulate internet ads gains bipar...</td>\n",
       "      <td>(Reuters) - U.S. legislation that would impose...</td>\n",
       "      <td>politicsNews</td>\n",
       "      <td>October 18, 2017</td>\n",
       "      <td>REAL</td>\n",
       "    </tr>\n",
       "    <tr>\n",
       "      <th>3106</th>\n",
       "      <td>3106</td>\n",
       "      <td>Senators want Congress to OK military action i...</td>\n",
       "      <td>WASHINGTON (Reuters) - U.S. senators called on...</td>\n",
       "      <td>politicsNews</td>\n",
       "      <td>June 20, 2017</td>\n",
       "      <td>REAL</td>\n",
       "    </tr>\n",
       "    <tr>\n",
       "      <th>802</th>\n",
       "      <td>802</td>\n",
       "      <td>Russian Lawyer At Trump Jr.’s Meeting Has Wor...</td>\n",
       "      <td>The whole world knows about the bombshell repo...</td>\n",
       "      <td>News</td>\n",
       "      <td>July 21, 2017</td>\n",
       "      <td>VIRAL</td>\n",
       "    </tr>\n",
       "    <tr>\n",
       "      <th>...</th>\n",
       "      <td>...</td>\n",
       "      <td>...</td>\n",
       "      <td>...</td>\n",
       "      <td>...</td>\n",
       "      <td>...</td>\n",
       "      <td>...</td>\n",
       "    </tr>\n",
       "    <tr>\n",
       "      <th>1923</th>\n",
       "      <td>1923</td>\n",
       "      <td>John McCain Was Asked If Trump Was Like Reaga...</td>\n",
       "      <td>For Republicans, being compared to Ronald Reag...</td>\n",
       "      <td>News</td>\n",
       "      <td>April 2, 2017</td>\n",
       "      <td>VIRAL</td>\n",
       "    </tr>\n",
       "    <tr>\n",
       "      <th>1706</th>\n",
       "      <td>1706</td>\n",
       "      <td>Trump hits back at Clinton, with a golf ball, ...</td>\n",
       "      <td>WASHINGTON (Reuters) - U.S. President Donald T...</td>\n",
       "      <td>politicsNews</td>\n",
       "      <td>September 17, 2017</td>\n",
       "      <td>REAL</td>\n",
       "    </tr>\n",
       "    <tr>\n",
       "      <th>3795</th>\n",
       "      <td>3795</td>\n",
       "      <td>Trump ordered emergency meeting after global c...</td>\n",
       "      <td>WASHINGTON (Reuters) - U.S. President Donald T...</td>\n",
       "      <td>politicsNews</td>\n",
       "      <td>May 14, 2017</td>\n",
       "      <td>REAL</td>\n",
       "    </tr>\n",
       "    <tr>\n",
       "      <th>1499</th>\n",
       "      <td>1499</td>\n",
       "      <td>Trump Ignores Historically Low Rating, Brags ...</td>\n",
       "      <td>The fact that most of the country despises Don...</td>\n",
       "      <td>News</td>\n",
       "      <td>May 12, 2017</td>\n",
       "      <td>VIRAL</td>\n",
       "    </tr>\n",
       "    <tr>\n",
       "      <th>1692</th>\n",
       "      <td>1692</td>\n",
       "      <td>Republicans Just RUINED Trump’s Plan To Bully...</td>\n",
       "      <td>Donald Trump has just been screwed over by mem...</td>\n",
       "      <td>News</td>\n",
       "      <td>April 24, 2017</td>\n",
       "      <td>VIRAL</td>\n",
       "    </tr>\n",
       "  </tbody>\n",
       "</table>\n",
       "<p>6000 rows × 6 columns</p>\n",
       "</div>"
      ],
      "text/plain": [
       "      Unnamed: 0                                              title  \\\n",
       "2567        2567  Trump praises work on British trade deal, says...   \n",
       "1671        1671   WATCH: Joe Scarborough Gets MOCKED For Compar...   \n",
       "1162        1162  U.S. bill to regulate internet ads gains bipar...   \n",
       "3106        3106  Senators want Congress to OK military action i...   \n",
       "802          802   Russian Lawyer At Trump Jr.’s Meeting Has Wor...   \n",
       "...          ...                                                ...   \n",
       "1923        1923   John McCain Was Asked If Trump Was Like Reaga...   \n",
       "1706        1706  Trump hits back at Clinton, with a golf ball, ...   \n",
       "3795        3795  Trump ordered emergency meeting after global c...   \n",
       "1499        1499   Trump Ignores Historically Low Rating, Brags ...   \n",
       "1692        1692   Republicans Just RUINED Trump’s Plan To Bully...   \n",
       "\n",
       "                                                   text       subject  \\\n",
       "2567  WASHINGTON (Reuters) - U.S. President Donald T...  politicsNews   \n",
       "1671  Joe Scarborough is not having the best morning...          News   \n",
       "1162  (Reuters) - U.S. legislation that would impose...  politicsNews   \n",
       "3106  WASHINGTON (Reuters) - U.S. senators called on...  politicsNews   \n",
       "802   The whole world knows about the bombshell repo...          News   \n",
       "...                                                 ...           ...   \n",
       "1923  For Republicans, being compared to Ronald Reag...          News   \n",
       "1706  WASHINGTON (Reuters) - U.S. President Donald T...  politicsNews   \n",
       "3795  WASHINGTON (Reuters) - U.S. President Donald T...  politicsNews   \n",
       "1499  The fact that most of the country despises Don...          News   \n",
       "1692  Donald Trump has just been screwed over by mem...          News   \n",
       "\n",
       "                     date  label  \n",
       "2567       July 25, 2017    REAL  \n",
       "1671       April 26, 2017  VIRAL  \n",
       "1162    October 18, 2017    REAL  \n",
       "3106       June 20, 2017    REAL  \n",
       "802         July 21, 2017  VIRAL  \n",
       "...                   ...    ...  \n",
       "1923        April 2, 2017  VIRAL  \n",
       "1706  September 17, 2017    REAL  \n",
       "3795        May 14, 2017    REAL  \n",
       "1499         May 12, 2017  VIRAL  \n",
       "1692       April 24, 2017  VIRAL  \n",
       "\n",
       "[6000 rows x 6 columns]"
      ]
     },
     "execution_count": 12,
     "metadata": {},
     "output_type": "execute_result"
    }
   ],
   "source": [
    "DF=shuffle(DF)\n",
    "DF"
   ]
  },
  {
   "cell_type": "code",
   "execution_count": 13,
   "metadata": {},
   "outputs": [],
   "source": [
    "from sklearn.model_selection import train_test_split"
   ]
  },
  {
   "cell_type": "code",
   "execution_count": 14,
   "metadata": {},
   "outputs": [],
   "source": [
    " X_train, X_test, y_train, y_test=train_test_split(DF['text'],DF['label'],test_size=0.2)"
   ]
  },
  {
   "cell_type": "code",
   "execution_count": 15,
   "metadata": {},
   "outputs": [],
   "source": [
    "from collections import Counter"
   ]
  },
  {
   "cell_type": "code",
   "execution_count": 16,
   "metadata": {},
   "outputs": [
    {
     "name": "stdout",
     "output_type": "stream",
     "text": [
      "(4800,)\n",
      "(1200,)\n",
      "(4800,)\n",
      "(1200,)\n"
     ]
    }
   ],
   "source": [
    "print(X_train.shape)\n",
    "print(X_test.shape)\n",
    "print(y_train.shape)\n",
    "print(y_test.shape)"
   ]
  },
  {
   "cell_type": "code",
   "execution_count": 17,
   "metadata": {},
   "outputs": [],
   "source": [
    "\n",
    "from nltk.tokenize import word_tokenize\n",
    "from sklearn.feature_extraction.text import TfidfVectorizer  #we dont have any numerical value\n",
    "##TF-->term frequency   IDF-->Inverse Document Frequency"
   ]
  },
  {
   "cell_type": "code",
   "execution_count": 18,
   "metadata": {},
   "outputs": [],
   "source": [
    "vectorizer=TfidfVectorizer(stop_words='english',max_df=0.8)"
   ]
  },
  {
   "cell_type": "code",
   "execution_count": 19,
   "metadata": {},
   "outputs": [],
   "source": [
    "X_train=vectorizer.fit_transform(X_train)  #trainsforming our data "
   ]
  },
  {
   "cell_type": "code",
   "execution_count": 20,
   "metadata": {},
   "outputs": [],
   "source": [
    "X_test=vectorizer.transform(X_test) #we can't feed non-numerical data to our models"
   ]
  },
  {
   "cell_type": "code",
   "execution_count": 21,
   "metadata": {},
   "outputs": [
    {
     "name": "stdout",
     "output_type": "stream",
     "text": [
      "(1200, 37608)\n",
      "(4800, 37608)\n"
     ]
    }
   ],
   "source": [
    "print(X_test.shape)\n",
    "print(X_train.shape)"
   ]
  },
  {
   "cell_type": "code",
   "execution_count": 22,
   "metadata": {},
   "outputs": [],
   "source": [
    "#splitting  of data is done, Train the models now"
   ]
  },
  {
   "cell_type": "code",
   "execution_count": 23,
   "metadata": {},
   "outputs": [],
   "source": [
    "# GaussianNB   "
   ]
  },
  {
   "cell_type": "code",
   "execution_count": 24,
   "metadata": {},
   "outputs": [
    {
     "data": {
      "text/plain": [
       "GaussianNB(priors=None, var_smoothing=1e-09)"
      ]
     },
     "execution_count": 24,
     "metadata": {},
     "output_type": "execute_result"
    }
   ],
   "source": [
    "gauss_model=GaussianNB()\n",
    "gauss_model.fit(X_train.toarray(),y_train)\n"
   ]
  },
  {
   "cell_type": "code",
   "execution_count": null,
   "metadata": {},
   "outputs": [],
   "source": []
  },
  {
   "cell_type": "code",
   "execution_count": 25,
   "metadata": {},
   "outputs": [],
   "source": [
    "#Logistic Regression and Support Vector Machines"
   ]
  },
  {
   "cell_type": "code",
   "execution_count": 26,
   "metadata": {},
   "outputs": [
    {
     "data": {
      "text/plain": [
       "LogisticRegression(C=1.0, class_weight=None, dual=False, fit_intercept=True,\n",
       "                   intercept_scaling=1, l1_ratio=None, max_iter=100,\n",
       "                   multi_class='auto', n_jobs=None, penalty='l2',\n",
       "                   random_state=None, solver='lbfgs', tol=0.0001, verbose=0,\n",
       "                   warm_start=False)"
      ]
     },
     "execution_count": 26,
     "metadata": {},
     "output_type": "execute_result"
    }
   ],
   "source": [
    "lr_model=LogisticRegression()\n",
    "lr_model.fit(X_train,y_train)"
   ]
  },
  {
   "cell_type": "code",
   "execution_count": 27,
   "metadata": {},
   "outputs": [
    {
     "data": {
      "text/plain": [
       "SVC(C=1.0, break_ties=False, cache_size=200, class_weight=None, coef0=0.0,\n",
       "    decision_function_shape='ovr', degree=3, gamma='scale', kernel='rbf',\n",
       "    max_iter=-1, probability=False, random_state=None, shrinking=True,\n",
       "    tol=0.001, verbose=False)"
      ]
     },
     "execution_count": 27,
     "metadata": {},
     "output_type": "execute_result"
    }
   ],
   "source": [
    "#Support Vector Machine\n",
    "SVC_model=SVC()\n",
    "SVC_model.fit(X_train,y_train)"
   ]
  },
  {
   "cell_type": "code",
   "execution_count": 28,
   "metadata": {},
   "outputs": [],
   "source": [
    "#Prediction"
   ]
  },
  {
   "cell_type": "code",
   "execution_count": 29,
   "metadata": {},
   "outputs": [],
   "source": [
    "gauss_pred=gauss_model.predict(X_test.toarray())"
   ]
  },
  {
   "cell_type": "code",
   "execution_count": 30,
   "metadata": {},
   "outputs": [],
   "source": [
    "lr_pred=lr_model.predict(X_test)"
   ]
  },
  {
   "cell_type": "code",
   "execution_count": 31,
   "metadata": {},
   "outputs": [],
   "source": [
    "pred=SVC_model.predict(X_test)"
   ]
  },
  {
   "cell_type": "code",
   "execution_count": null,
   "metadata": {},
   "outputs": [],
   "source": []
  },
  {
   "cell_type": "code",
   "execution_count": 32,
   "metadata": {},
   "outputs": [],
   "source": [
    "#Evaluating the Naive Baise classifier model"
   ]
  },
  {
   "cell_type": "code",
   "execution_count": 33,
   "metadata": {},
   "outputs": [],
   "source": [
    "conf_gauss=confusion_matrix(y_test,gauss_pred)"
   ]
  },
  {
   "cell_type": "code",
   "execution_count": 34,
   "metadata": {},
   "outputs": [],
   "source": [
    "class_gauss=classification_report(y_test,gauss_pred)"
   ]
  },
  {
   "cell_type": "code",
   "execution_count": null,
   "metadata": {},
   "outputs": [],
   "source": []
  },
  {
   "cell_type": "code",
   "execution_count": 35,
   "metadata": {},
   "outputs": [],
   "source": [
    "#Evaluating Logistic Regression MOdel"
   ]
  },
  {
   "cell_type": "code",
   "execution_count": 36,
   "metadata": {},
   "outputs": [],
   "source": [
    "conf_lr=confusion_matrix(y_test,lr_pred)\n",
    "class_lr=classification_report(y_test,lr_pred)"
   ]
  },
  {
   "cell_type": "code",
   "execution_count": null,
   "metadata": {},
   "outputs": [],
   "source": []
  },
  {
   "cell_type": "code",
   "execution_count": 37,
   "metadata": {},
   "outputs": [],
   "source": [
    "from sklearn.metrics import accuracy_score"
   ]
  },
  {
   "cell_type": "code",
   "execution_count": 38,
   "metadata": {
    "scrolled": true
   },
   "outputs": [
    {
     "name": "stdout",
     "output_type": "stream",
     "text": [
      "Acurracy\n",
      "GaussianNB 0.89\n",
      "Logistic Regression 0.9825\n",
      "Support Vector Machine 0.995\n"
     ]
    }
   ],
   "source": [
    "acc1=accuracy_score(y_test,gauss_pred)\n",
    "##acc1 is for Naive baise classifier\n",
    "acc4=accuracy_score(y_test,lr_pred)\n",
    "## acc2 is for Logistic Regression\n",
    "acc6=accuracy_score(y_test,pred)\n",
    "#acc6 is for Support Vector Machine\n",
    "print(\"Acurracy\")\n",
    "print(\"GaussianNB\",acc1)\n",
    "print(\"Logistic Regression\",acc4)\n",
    "print(\"Support Vector Machine\",acc6)\n",
    "#But accuracy can't only be the model metric\n",
    "#F1 Score is a better model metric because it depends \n"
   ]
  },
  {
   "cell_type": "code",
   "execution_count": 39,
   "metadata": {},
   "outputs": [
    {
     "data": {
      "text/plain": [
       "(<Figure size 432x288 with 2 Axes>,\n",
       " <matplotlib.axes._subplots.AxesSubplot at 0x1a1ec323d0>)"
      ]
     },
     "execution_count": 39,
     "metadata": {},
     "output_type": "execute_result"
    },
    {
     "data": {
      "image/png": "[encoded data removed]",
      "text/plain": [
       "<Figure size 432x288 with 2 Axes>"
      ]
     },
     "metadata": {
      "needs_background": "light"
     },
     "output_type": "display_data"
    }
   ],
   "source": [
    "plot_confusion_matrix(conf_mat=conf_gauss,show_absolute=True,\n",
    "                                show_normed=True,\n",
    "                                colorbar=True,class_names=['NOT-VIRAL','VIRAL'])"
   ]
  },
  {
   "cell_type": "code",
   "execution_count": null,
   "metadata": {},
   "outputs": [],
   "source": []
  },
  {
   "cell_type": "code",
   "execution_count": 40,
   "metadata": {},
   "outputs": [
    {
     "data": {
      "text/plain": [
       "(<Figure size 432x288 with 2 Axes>,\n",
       " <matplotlib.axes._subplots.AxesSubplot at 0x1a1f176310>)"
      ]
     },
     "execution_count": 40,
     "metadata": {},
     "output_type": "execute_result"
    },
    {
     "data": {
      "image/png": "[encoded data removed]",
      "text/plain": [
       "<Figure size 432x288 with 2 Axes>"
      ]
     },
     "metadata": {
      "needs_background": "light"
     },
     "output_type": "display_data"
    }
   ],
   "source": [
    "conf_SVC=confusion_matrix(pred,y_test)\n",
    "plot_confusion_matrix(conf_mat=conf_SVC,show_absolute=True,\n",
    "                                show_normed=True,\n",
    "                                colorbar=True,class_names=['NOT-VIRAL','VIRAL'])"
   ]
  },
  {
   "cell_type": "code",
   "execution_count": 41,
   "metadata": {},
   "outputs": [
    {
     "data": {
      "text/plain": [
       "(<Figure size 432x288 with 2 Axes>,\n",
       " <matplotlib.axes._subplots.AxesSubplot at 0x1a1e355510>)"
      ]
     },
     "execution_count": 41,
     "metadata": {},
     "output_type": "execute_result"
    },
    {
     "data": {
      "image/png": "[encoded data removed]",
      "text/plain": [
       "<Figure size 432x288 with 2 Axes>"
      ]
     },
     "metadata": {
      "needs_background": "light"
     },
     "output_type": "display_data"
    }
   ],
   "source": [
    "plot_confusion_matrix(conf_mat=conf_lr,show_absolute=True,\n",
    "                                show_normed=True,\n",
    "                                colorbar=True,class_names=['NOT-VIRAL','VIRAL'])\n"
   ]
  },
  {
   "cell_type": "code",
   "execution_count": null,
   "metadata": {},
   "outputs": [],
   "source": []
  },
  {
   "cell_type": "code",
   "execution_count": null,
   "metadata": {},
   "outputs": [],
   "source": []
  },
  {
   "cell_type": "code",
   "execution_count": null,
   "metadata": {},
   "outputs": [],
   "source": []
  }
 ],
 "metadata": {
  "kernelspec": {
   "display_name": "Python 3",
   "language": "python",
   "name": "python3"
  },
  "language_info": {
   "codemirror_mode": {
    "name": "ipython",
    "version": 3
   },
   "file_extension": ".py",
   "mimetype": "text/x-python",
   "name": "python",
   "nbconvert_exporter": "python",
   "pygments_lexer": "ipython3",
   "version": "3.7.6"
  }
 },
 "nbformat": 4,
 "nbformat_minor": 4
}
